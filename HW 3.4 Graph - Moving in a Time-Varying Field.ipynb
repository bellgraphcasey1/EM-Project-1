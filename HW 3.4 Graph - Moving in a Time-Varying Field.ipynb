{
 "cells": [
  {
   "cell_type": "markdown",
   "metadata": {},
   "source": [
    "Graph the expression for the EMF as a function of time for different ranges of α. By ranges here, I mean different orders of magnitude for α.This technique can be used to see if there is qualitatively different behavior when parameters change. Is there? What about for different ranges of v?"
   ]
  },
  {
   "cell_type": "code",
   "execution_count": 3,
   "metadata": {
    "collapsed": true
   },
   "outputs": [],
   "source": [
    "import numpy as np\n",
    "import matplotlib.pyplot as plt\n",
    "plt.style.use('ggplot')  # sets up pretty plots\n",
    "%matplotlib inline"
   ]
  },
  {
   "cell_type": "code",
   "execution_count": 45,
   "metadata": {
    "collapsed": false
   },
   "outputs": [
    {
     "name": "stdout",
     "output_type": "stream",
     "text": [
      "range(0, 20)\n"
     ]
    }
   ],
   "source": [
    "w = 1\n",
    "x0 = 0\n",
    "v0 = 1\n",
    "alpha = .2\n",
    "B0 = 2\n",
    "\n",
    "number = 20\n",
    "N = np.linspace(0, 10, num=number)\n",
    "print(range(0, np.size(N)))"
   ]
  },
  {
   "cell_type": "code",
   "execution_count": 79,
   "metadata": {
    "collapsed": false
   },
   "outputs": [],
   "source": [
    "pos = np.zeros(number)\n",
    "vel = np.zeros(number)\n",
    "for i in range(0, number):\n",
    "    vel[i] = v0"
   ]
  },
  {
   "cell_type": "code",
   "execution_count": null,
   "metadata": {
    "collapsed": false
   },
   "outputs": [],
   "source": []
  },
  {
   "cell_type": "code",
   "execution_count": null,
   "metadata": {
    "collapsed": true
   },
   "outputs": [],
   "source": []
  },
  {
   "cell_type": "code",
   "execution_count": 95,
   "metadata": {
    "collapsed": false
   },
   "outputs": [
    {
     "data": {
      "text/plain": [
       "[<matplotlib.lines.Line2D at 0x2c6c7ca9fd0>]"
      ]
     },
     "execution_count": 95,
     "metadata": {},
     "output_type": "execute_result"
    },
    {
     "data": {
      "image/png": "[encoded data removed]",
      "text/plain": [
       "<matplotlib.figure.Figure at 0x2c6c7b8bbe0>"
      ]
     },
     "metadata": {},
     "output_type": "display_data"
    }
   ],
   "source": [
    "pos = np.zeros(number)\n",
    "vel = np.zeros(number)\n",
    "for i in range(0, number):\n",
    "    vel[i] = v0\n",
    "counter = 0\n",
    "emfArray = np.zeros(number)\n",
    "\n",
    "for t in N:\n",
    "    EMF = abs(-w*( pos[counter]* alpha + (B0 + alpha*t)*vel[counter]))\n",
    "    emfArray[counter] = EMF\n",
    "    \n",
    "    if(counter<number-1):\n",
    "        pos[counter+1]+=1\n",
    "    counter+=1\n",
    "    \n",
    "plt.plot(N, emfArray)"
   ]
  },
  {
   "cell_type": "code",
   "execution_count": null,
   "metadata": {
    "collapsed": false
   },
   "outputs": [],
   "source": []
  },
  {
   "cell_type": "code",
   "execution_count": 96,
   "metadata": {
    "collapsed": false
   },
   "outputs": [
    {
     "data": {
      "text/plain": [
       "[<matplotlib.lines.Line2D at 0x2c6c7d0da90>]"
      ]
     },
     "execution_count": 96,
     "metadata": {},
     "output_type": "execute_result"
    },
    {
     "data": {
      "image/png": "[encoded data removed]",
      "text/plain": [
       "<matplotlib.figure.Figure at 0x2c6c7c79c88>"
      ]
     },
     "metadata": {},
     "output_type": "display_data"
    }
   ],
   "source": [
    "alpha = 20\n",
    "pos = np.zeros(number)\n",
    "vel = np.zeros(number)\n",
    "for i in range(0, number):\n",
    "    vel[i] = v0\n",
    "counter = 0\n",
    "emfArray = np.zeros(number)\n",
    "\n",
    "for t in N:\n",
    "    EMF = abs(-w*( pos[counter]* alpha + (B0 + alpha*t)*vel[counter]))\n",
    "    emfArray[counter] = EMF\n",
    "    \n",
    "    if(counter<number-1):\n",
    "        pos[counter+1]+=1\n",
    "    counter+=1\n",
    "    \n",
    "plt.plot(N, emfArray)"
   ]
  },
  {
   "cell_type": "code",
   "execution_count": 97,
   "metadata": {
    "collapsed": false
   },
   "outputs": [
    {
     "data": {
      "text/plain": [
       "[<matplotlib.lines.Line2D at 0x2c6c7213ac8>]"
      ]
     },
     "execution_count": 97,
     "metadata": {},
     "output_type": "execute_result"
    },
    {
     "data": {
      "image/png": "[encoded data removed]",
      "text/plain": [
       "<matplotlib.figure.Figure at 0x2c6c7ce1e10>"
      ]
     },
     "metadata": {},
     "output_type": "display_data"
    }
   ],
   "source": [
    "alpha = 2000\n",
    "pos = np.zeros(number)\n",
    "vel = np.zeros(number)\n",
    "for i in range(0, number):\n",
    "    vel[i] = v0\n",
    "counter = 0\n",
    "emfArray = np.zeros(number)\n",
    "\n",
    "for t in N:\n",
    "    EMF = abs(-w*( pos[counter]* alpha + (B0 + alpha*t)*vel[counter]))\n",
    "    emfArray[counter] = EMF\n",
    "    \n",
    "    if(counter<number-1):\n",
    "        pos[counter+1]+=1\n",
    "    counter+=1\n",
    "    \n",
    "plt.plot(N, emfArray)"
   ]
  },
  {
   "cell_type": "code",
   "execution_count": null,
   "metadata": {
    "collapsed": true
   },
   "outputs": [],
   "source": []
  }
 ],
 "metadata": {
  "kernelspec": {
   "display_name": "Python [Root]",
   "language": "python",
   "name": "Python [Root]"
  },
  "language_info": {
   "codemirror_mode": {
    "name": "ipython",
    "version": 3
   },
   "file_extension": ".py",
   "mimetype": "text/x-python",
   "name": "python",
   "nbconvert_exporter": "python",
   "pygments_lexer": "ipython3",
   "version": "3.5.2"
  }
 },
 "nbformat": 4,
 "nbformat_minor": 0
}
