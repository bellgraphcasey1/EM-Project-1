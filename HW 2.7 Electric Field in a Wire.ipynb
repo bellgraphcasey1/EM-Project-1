{
 "cells": [
  {
   "cell_type": "markdown",
   "metadata": {},
   "source": [
    "# Computing Electric Field Along the Axis of a Charged Ring With a Computer"
   ]
  },
  {
   "cell_type": "markdown",
   "metadata": {},
   "source": [
    "This program computes the net electric field due to a uniformly charged ring of radius $R$ and charge $Q$ at a given point in space."
   ]
  },
  {
   "cell_type": "code",
   "execution_count": 5,
   "metadata": {
    "collapsed": false
   },
   "outputs": [],
   "source": [
    "from __future__ import division, print_function\n",
    "from vpython import *\n",
    "from math import *"
   ]
  },
  {
   "cell_type": "code",
   "execution_count": 6,
   "metadata": {
    "collapsed": false
   },
   "outputs": [
    {
     "data": {
      "text/html": [
       "<div id=\"glowscript\" class=\"glowscript\"></div>"
      ],
      "text/plain": [
       "<IPython.core.display.HTML object>"
      ]
     },
     "metadata": {},
     "output_type": "display_data"
    },
    {
     "data": {
      "application/javascript": [
       "window.__context = { glowscript_container: $(\"#glowscript\").removeAttr(\"id\")}"
      ],
      "text/plain": [
       "<IPython.core.display.Javascript object>"
      ]
     },
     "metadata": {},
     "output_type": "display_data"
    },
    {
     "name": "stdout",
     "output_type": "stream",
     "text": [
      "The net electric field =  <2.27374e-13, -4.54747e-13, 7954.95> N/C\n"
     ]
    }
   ],
   "source": [
    "scene=canvas(title=\"Electric field due to uniformly charged ring\")\n",
    "scene.background=color.white\n",
    "\n",
    "R = 0.02 #radius of ring in m\n",
    "Q = 1e-9 #charge of ring in C\n",
    "N = 4 #number of unique pieces\n",
    "\n",
    "#draw the objects\n",
    "myring = ring(pos=vector(0,0,0), radius=R, axis=vector(0,0,1), color=color.blue, thickness=0.02*R)\n",
    "zaxis = cylinder(pos=-2*R*myring.axis, radius=0.015*R, axis=4*R*myring.axis, color=color.black)\n",
    "point = sphere(pos=R*myring.axis, color=color.red, radius=5*zaxis.radius)\n",
    "\n",
    "oofpez = 9e9 #1/(4pi epsilon_0) in N m^2/C^2\n",
    "dq = Q/N #charge of a piece\n",
    "dtheta = 2*pi/N #theta increment for our loop\n",
    "theta = dtheta/2 #initial theta for first piece of loop\n",
    "Enet = vector(0,0,0) #net electric field of all pieces\n",
    "\n",
    "rpoint = point.pos #location of the point in space to calculate E field\n",
    "\n",
    "scale = 1.2*mag(rpoint)/8000 #used to scale the arrows representing E-field\n",
    "\n",
    "while theta<2*pi:\n",
    "    rpiece = R*vector(cos(theta),sin(theta),0) #location of piece\n",
    "    r = rpoint-rpiece #vector from piece to point in space\n",
    "    rmag = mag(r) #magnitude of r\n",
    "    rhat = norm(r) #unit vector for r\n",
    "    dE = oofpez*dq/rmag/rmag*rhat #Electric field due to piece at rpoint\n",
    "    Enet = Enet+dE #net electric field of the first one up to this one\n",
    "    particle = sphere(pos=rpiece, radius=point.radius, color=color.yellow) #draw a particle at center of piece\n",
    "    dEvector = arrow(pos=rpoint, axis=scale*dE, color=color.magenta, shaftwidth=point.radius/2)\n",
    "    theta = theta+dtheta\n",
    "\n",
    "print(\"The net electric field = \",Enet, \"N/C\")\n",
    "Evector=arrow(pos=rpoint, axis=scale*Enet, color=color.orange, shaftwidth=point.radius/2)\n"
   ]
  },
  {
   "cell_type": "code",
   "execution_count": null,
   "metadata": {
    "collapsed": true
   },
   "outputs": [],
   "source": []
  },
  {
   "cell_type": "code",
   "execution_count": null,
   "metadata": {
    "collapsed": false
   },
   "outputs": [],
   "source": []
  },
  {
   "cell_type": "code",
   "execution_count": 42,
   "metadata": {
    "collapsed": false
   },
   "outputs": [
    {
     "data": {
      "text/html": [
       "<div id=\"glowscript\" class=\"glowscript\"></div>"
      ],
      "text/plain": [
       "<IPython.core.display.HTML object>"
      ]
     },
     "metadata": {},
     "output_type": "display_data"
    },
    {
     "data": {
      "application/javascript": [
       "window.__context = { glowscript_container: $(\"#glowscript\").removeAttr(\"id\")}"
      ],
      "text/plain": [
       "<IPython.core.display.Javascript object>"
      ]
     },
     "metadata": {},
     "output_type": "display_data"
    },
    {
     "name": "stdout",
     "output_type": "stream",
     "text": [
      "The net electric field =  <3.63798e-12, 2.27374e-12, 0> N/C\n",
      "The net electric field =  <-2225, -1.81899e-12, 0> N/C\n",
      "The net electric field =  <-864.782, 3.63798e-12, 0> N/C\n",
      "The net electric field =  <5215.75, 0, 0> N/C\n"
     ]
    }
   ],
   "source": [
    "scene=canvas(title=\"Electric field due to uniformly charged ring\")\n",
    "scene.background=color.white\n",
    "\n",
    "R = 0.02 #radius of ring in m\n",
    "Q = 1e-9 #charge of ring in C\n",
    "N = 4 #number of unique pieces\n",
    "N2 = 4 #number of places EF is calculated\n",
    "\n",
    "#draw the objects\n",
    "myring = ring(pos=vector(0,0,0), radius=R, axis=vector(0,0,1), color=color.blue, thickness=0.02*R)\n",
    "zaxis = cylinder(pos=-2*R*myring.axis, radius=0.015*R, axis=4*R*myring.axis, color=color.black)\n",
    "for i in range(0, N2):\n",
    "    \n",
    "    point = sphere(pos=vector((i/N2)*R, 0, 0), color=color.red, radius=5*zaxis.radius)\n",
    "    #point2 = sphere(pos=vector(.6*R, 0, 0), color=color.red, radius=5*zaxis.radius)\n",
    "    #point3 = sphere(pos=vector(.25*R, 0, 0), color=color.red, radius=5*zaxis.radius)\n",
    "    #point4 = sphere(pos=vector(0*R, 0, 0), color=color.red, radius=5*zaxis.radius)\n",
    "\n",
    "\n",
    "    oofpez = 9e9 #1/(4pi epsilon_0) in N m^2/C^2\n",
    "    dq = Q/N #charge of a piece\n",
    "    dtheta = 2*pi/N #theta increment for our loop\n",
    "    theta = dtheta/2 #initial theta for first piece of loop\n",
    "    Enet = vector(0,0,0) #net electric field of all pieces\n",
    "\n",
    "    rpoint = point.pos #location of the point in space to calculate E field\n",
    "\n",
    "    scale = 1.2*mag(rpoint)/8000 #used to scale the arrows representing E-field\n",
    "\n",
    "    while theta<2*pi:\n",
    "        rpiece = R*vector(cos(theta),sin(theta),0) #location of piece\n",
    "        r = rpoint-rpiece #vector from piece to point in space\n",
    "        rmag = mag(r) #magnitude of r\n",
    "        rhat = norm(r) #unit vector for r\n",
    "        dE = oofpez*dq/rmag/rmag*rhat #Electric field due to piece at rpoint\n",
    "        Enet = Enet+dE #net electric field of the first one up to this one\n",
    "        particle = sphere(pos=rpiece, radius=point.radius, color=color.yellow) #draw a particle at center of piece\n",
    "        dEvector = arrow(pos=rpoint, axis=scale*dE, color=color.magenta, shaftwidth=point.radius/2)\n",
    "        theta = theta+dtheta\n",
    "\n",
    "    print(\"The net electric field = \",Enet, \"N/C\")\n",
    "    Evector=arrow(pos=rpoint, axis=scale*Enet, color=color.orange, shaftwidth=point.radius/2)\n"
   ]
  },
  {
   "cell_type": "code",
   "execution_count": null,
   "metadata": {
    "collapsed": true
   },
   "outputs": [],
   "source": []
  },
  {
   "cell_type": "code",
   "execution_count": null,
   "metadata": {
    "collapsed": true
   },
   "outputs": [],
   "source": []
  },
  {
   "cell_type": "code",
   "execution_count": null,
   "metadata": {
    "collapsed": true
   },
   "outputs": [],
   "source": []
  },
  {
   "cell_type": "code",
   "execution_count": 87,
   "metadata": {
    "collapsed": false
   },
   "outputs": [
    {
     "data": {
      "text/html": [
       "<div id=\"glowscript\" class=\"glowscript\"></div>"
      ],
      "text/plain": [
       "<IPython.core.display.HTML object>"
      ]
     },
     "metadata": {},
     "output_type": "display_data"
    },
    {
     "data": {
      "application/javascript": [
       "window.__context = { glowscript_container: $(\"#glowscript\").removeAttr(\"id\")}"
      ],
      "text/plain": [
       "<IPython.core.display.Javascript object>"
      ]
     },
     "metadata": {},
     "output_type": "display_data"
    },
    {
     "name": "stdout",
     "output_type": "stream",
     "text": [
      "The net electric field =  <6.82121e-13, 7954.95, 0> N/C\n",
      "The net electric field =  <565.316, 15986.3, 1.13687e-12> N/C\n",
      "The net electric field =  <2020.1, 24068.8, 2.27374e-12> N/C\n",
      "The net electric field =  <4659.19, 31812.5, 1.36424e-12> N/C\n",
      "The net electric field =  <4659.19, 39862.4, 1.81899e-12> N/C\n",
      "The net electric field =  <4190.03, 48468.1, 2.72848e-12> N/C\n",
      "The net electric field =  <5031.5, 58150.7, 2.72848e-12> N/C\n",
      "The net electric field =  <9137.63, 67934.2, -1.81899e-12> N/C\n",
      "The net electric field =  <9137.63, 67934.2, 4.54747e-13> N/C\n",
      "The net electric field =  <6912.62, 67934.2, 0> N/C\n",
      "The net electric field =  <6047.84, 67934.2, 3.63798e-12> N/C\n",
      "The net electric field =  <11263.6, 67934.2, 3.63798e-12> N/C\n",
      "The net electric field =  <11263.6, 59884.4, 3.63798e-12> N/C\n",
      "The net electric field =  <10794.4, 51278.6, 4.54747e-12> N/C\n",
      "The net electric field =  <11635.9, 41596, 4.54747e-12> N/C\n",
      "The net electric field =  <15742, 31812.5, 0> N/C\n",
      "The net electric field =  <15742, 23857.6, 0> N/C\n",
      "The net electric field =  <16307.3, 15826.2, 1.13687e-12> N/C\n",
      "The net electric field =  <17762.1, 7743.73, 2.27374e-12> N/C\n",
      "The net electric field =  <20401.2, 9.54969e-12, 1.36424e-12> N/C\n"
     ]
    }
   ],
   "source": [
    "scene=canvas(title=\"Electric field due to uniformly charged ring\")\n",
    "scene.background=color.white\n",
    "\n",
    "R = 0.02 #radius of ring in m\n",
    "Q = 1e-9 #charge of ring in C\n",
    "N = 4 #number of unique pieces\n",
    "N2 = 4 #number of places EF is calculated\n",
    "nRings = 5 #number of rings in tube\n",
    "\n",
    "\n",
    "#draw the objects\n",
    "myring  = ring(pos=vector(0, 0,0), radius=R, axis=vector(0,1,0), color=color.blue, thickness=0.02*R)\n",
    "myring2 = ring(pos=vector(0, R,0), radius=R, axis=vector(0,1,0), color=color.blue, thickness=0.02*R)\n",
    "myring3 = ring(pos=vector(0,-R,0), radius=R, axis=vector(0,1,0), color=color.blue, thickness=0.02*R)\n",
    "myring4 = ring(pos=vector(0,.5*R,0), radius=R, axis=vector(0,1,0), color=color.blue, thickness=0.02*R)\n",
    "myring5 = ring(pos=vector(0,-.5*R,0), radius=R, axis=vector(0,1,0), color=color.blue, thickness=0.02*R)\n",
    "\n",
    "totalRings = [myring, myring3, myring5]\n",
    "\n",
    "zaxis = cylinder(pos=-2*R*myring.axis, radius=0.015*R, axis=4*R*myring.axis, color=color.black)\n",
    "\n",
    "zvalue = -1\n",
    "Enet = vector(0,0,0) #net electric field of all pieces\n",
    "\n",
    "for r in range(0, nRings):\n",
    "    \n",
    "    for i in range(0, N2):\n",
    "\n",
    "        point = sphere(pos=vector((i/N2)*R, 0, 0), color=color.red, radius=5*zaxis.radius)\n",
    "\n",
    "        oofpez = 9e9 #1/(4pi epsilon_0) in N m^2/C^2\n",
    "        dq = Q/N #charge of a piece\n",
    "        dtheta = 2*pi/N #theta increment for our loop\n",
    "        theta = dtheta/2 #initial theta for first piece of loop\n",
    "        #Enet = vector(0,0,0) #net electric field of all pieces\n",
    "\n",
    "        rpoint = point.pos #location of the point in space to calculate E field\n",
    "\n",
    "        scale = 1.2*mag(rpoint)/8000 #used to scale the arrows representing E-field\n",
    "\n",
    "        while theta<2*pi:\n",
    "            rpiece = R*vector(cos(theta),zvalue, sin(theta)) #location of piece\n",
    "            r = rpoint-rpiece #vector from piece to point in space\n",
    "            rmag = mag(r) #magnitude of r\n",
    "            rhat = norm(r) #unit vector for r\n",
    "            dE = oofpez*dq/rmag/rmag*rhat #Electric field due to piece at rpoint\n",
    "            Enet = Enet+dE #net electric field of the first one up to this one\n",
    "            particle = sphere(pos=rpiece, radius=point.radius, color=color.yellow) #draw a particle at center of piece\n",
    "            dEvector = arrow(pos=rpoint, axis=scale*dE, color=color.magenta, shaftwidth=point.radius/2)\n",
    "            theta = theta+dtheta\n",
    "\n",
    "        print(\"The net electric field = \",Enet, \"N/C\")\n",
    "    zvalue+=.5\n",
    "Evector=arrow(pos=rpoint, axis=scale*Enet, color=color.orange, shaftwidth=point.radius/2)\n"
   ]
  },
  {
   "cell_type": "code",
   "execution_count": null,
   "metadata": {
    "collapsed": true
   },
   "outputs": [],
   "source": []
  },
  {
   "cell_type": "code",
   "execution_count": null,
   "metadata": {
    "collapsed": true
   },
   "outputs": [],
   "source": []
  }
 ],
 "metadata": {
  "anaconda-cloud": {},
  "kernelspec": {
   "display_name": "Python [Root]",
   "language": "python",
   "name": "Python [Root]"
  },
  "language_info": {
   "codemirror_mode": {
    "name": "ipython",
    "version": 3
   },
   "file_extension": ".py",
   "mimetype": "text/x-python",
   "name": "python",
   "nbconvert_exporter": "python",
   "pygments_lexer": "ipython3",
   "version": "3.5.2"
  }
 },
 "nbformat": 4,
 "nbformat_minor": 0
}
