{
 "cells": [
  {
   "cell_type": "code",
   "execution_count": 1,
   "metadata": {
    "collapsed": true
   },
   "outputs": [],
   "source": [
    "import numpy as np\n",
    "import matplotlib.pyplot as plt\n",
    "plt.style.use('ggplot')  # sets up pretty plots\n",
    "%matplotlib inline"
   ]
  },
  {
   "cell_type": "code",
   "execution_count": 9,
   "metadata": {
    "collapsed": false
   },
   "outputs": [
    {
     "data": {
      "text/plain": [
       "'\\nPick a visible wavelength, and plot, using Jupyter, a Gaussian pulse that lasts 1 femtosecond. \\n(When I say plot, I’m thinking of \\nRe[f(x,t=0)]\\nand then think about what happens as time goes by) Try to get as many details reasonably correct as you can.\\n'"
      ]
     },
     "execution_count": 9,
     "metadata": {},
     "output_type": "execute_result"
    }
   ],
   "source": [
    "'''\n",
    "Pick a visible wavelength, and plot, using Jupyter, a Gaussian pulse that lasts 1 femtosecond. \n",
    "(When I say plot, I’m thinking of \n",
    "Re[f(x,t=0)]\n",
    "and then think about what happens as time goes by) Try to get as many details reasonably correct as you can.\n",
    "'''"
   ]
  },
  {
   "cell_type": "code",
   "execution_count": null,
   "metadata": {
    "collapsed": true
   },
   "outputs": [],
   "source": []
  },
  {
   "cell_type": "code",
   "execution_count": 93,
   "metadata": {
    "collapsed": false
   },
   "outputs": [
    {
     "data": {
      "text/plain": [
       "[<matplotlib.lines.Line2D at 0x15f18d419e8>]"
      ]
     },
     "execution_count": 93,
     "metadata": {},
     "output_type": "execute_result"
    },
    {
     "data": {
      "image/png": "[encoded data removed]",
      "text/plain": [
       "<matplotlib.figure.Figure at 0x15f18d96048>"
      ]
     },
     "metadata": {},
     "output_type": "display_data"
    }
   ],
   "source": [
    "lamb = 500e-9\n",
    "k0 = 1\n",
    "c = 3*10^8\n",
    "t = 0\n",
    "cond = 1\n",
    "\n",
    "xarry = np.linspace(-20, 20, 1000)\n",
    "fxt = np.exp(-(cond**2)*(xarry**2)/2) * np.cos(2*np.pi*(xarry)/lamb)\n",
    "\n",
    "plt.plot(xarry, fxt)\n",
    "\n",
    "#As the time goes forward, so does the wave, in physical space, at speed=c"
   ]
  },
  {
   "cell_type": "code",
   "execution_count": null,
   "metadata": {
    "collapsed": true
   },
   "outputs": [],
   "source": []
  }
 ],
 "metadata": {
  "anaconda-cloud": {},
  "kernelspec": {
   "display_name": "Python [Root]",
   "language": "python",
   "name": "Python [Root]"
  },
  "language_info": {
   "codemirror_mode": {
    "name": "ipython",
    "version": 3
   },
   "file_extension": ".py",
   "mimetype": "text/x-python",
   "name": "python",
   "nbconvert_exporter": "python",
   "pygments_lexer": "ipython3",
   "version": "3.5.2"
  }
 },
 "nbformat": 4,
 "nbformat_minor": 0
}
